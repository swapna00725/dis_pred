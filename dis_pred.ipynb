{
 "cells": [
  {
   "cell_type": "code",
   "execution_count": 2,
   "id": "3aec46c1",
   "metadata": {},
   "outputs": [],
   "source": [
    "import numpy as np\n",
    "import pandas as pd\n",
    "import matplotlib.pyplot as plt \n",
    "import seaborn as sns\n",
    "# Modelling\n",
    "from sklearn.metrics import mean_squared_error, r2_score\n",
    "from sklearn.neighbors import KNeighborsClassifier\n",
    "from sklearn.tree import DecisionTreeClassifier\n",
    "from sklearn.ensemble import RandomForestClassifier,AdaBoostClassifier\n",
    "from sklearn.svm import SVC\n",
    "#from sklearn.linear_model import LinearRegression, Ridge,Lasso\n",
    "#from sklearn.metrics import r2_score, mean_absolute_error, mean_squared_error\n",
    "from sklearn.metrics import accuracy_score,classification_report,confusion_matrix\n",
    "from sklearn.model_selection import RandomizedSearchCV\n",
    "from catboost import CatBoostClassifier\n",
    "from xgboost import XGBClassifier\n",
    "import warnings"
   ]
  },
  {
   "cell_type": "code",
   "execution_count": 3,
   "id": "508d59a3",
   "metadata": {},
   "outputs": [],
   "source": [
    "df=pd.read_excel('C:/Users/san/Desktop/dis_dataset.xlsx')"
   ]
  },
  {
   "cell_type": "code",
   "execution_count": 4,
   "id": "e2dedc07",
   "metadata": {},
   "outputs": [
    {
     "data": {
      "text/html": [
       "<div>\n",
       "<style scoped>\n",
       "    .dataframe tbody tr th:only-of-type {\n",
       "        vertical-align: middle;\n",
       "    }\n",
       "\n",
       "    .dataframe tbody tr th {\n",
       "        vertical-align: top;\n",
       "    }\n",
       "\n",
       "    .dataframe thead th {\n",
       "        text-align: right;\n",
       "    }\n",
       "</style>\n",
       "<table border=\"1\" class=\"dataframe\">\n",
       "  <thead>\n",
       "    <tr style=\"text-align: right;\">\n",
       "      <th></th>\n",
       "      <th>fever</th>\n",
       "      <th>headache</th>\n",
       "      <th>nausea</th>\n",
       "      <th>vomiting</th>\n",
       "      <th>fatigue</th>\n",
       "      <th>joint_pain</th>\n",
       "      <th>skin_rash</th>\n",
       "      <th>cough</th>\n",
       "      <th>weight_loss</th>\n",
       "      <th>yellow_eyes</th>\n",
       "      <th>disease</th>\n",
       "    </tr>\n",
       "  </thead>\n",
       "  <tbody>\n",
       "    <tr>\n",
       "      <th>0</th>\n",
       "      <td>yes</td>\n",
       "      <td>no</td>\n",
       "      <td>yes</td>\n",
       "      <td>no</td>\n",
       "      <td>yes</td>\n",
       "      <td>no</td>\n",
       "      <td>no</td>\n",
       "      <td>yes</td>\n",
       "      <td>yes</td>\n",
       "      <td>no</td>\n",
       "      <td>Paralysis (brain hemorrhage)</td>\n",
       "    </tr>\n",
       "    <tr>\n",
       "      <th>1</th>\n",
       "      <td>no</td>\n",
       "      <td>no</td>\n",
       "      <td>yes</td>\n",
       "      <td>no</td>\n",
       "      <td>no</td>\n",
       "      <td>no</td>\n",
       "      <td>yes</td>\n",
       "      <td>yes</td>\n",
       "      <td>no</td>\n",
       "      <td>no</td>\n",
       "      <td>Paralysis (brain hemorrhage)</td>\n",
       "    </tr>\n",
       "  </tbody>\n",
       "</table>\n",
       "</div>"
      ],
      "text/plain": [
       "  fever headache nausea vomiting fatigue joint_pain skin_rash cough  \\\n",
       "0   yes       no    yes       no     yes         no        no   yes   \n",
       "1    no       no    yes       no      no         no       yes   yes   \n",
       "\n",
       "  weight_loss yellow_eyes                       disease  \n",
       "0         yes          no  Paralysis (brain hemorrhage)  \n",
       "1          no          no  Paralysis (brain hemorrhage)  "
      ]
     },
     "metadata": {},
     "output_type": "display_data"
    },
    {
     "data": {
      "text/plain": [
       "(2000, 11)"
      ]
     },
     "metadata": {},
     "output_type": "display_data"
    },
    {
     "data": {
      "text/plain": [
       "fever          object\n",
       "headache       object\n",
       "nausea         object\n",
       "vomiting       object\n",
       "fatigue        object\n",
       "joint_pain     object\n",
       "skin_rash      object\n",
       "cough          object\n",
       "weight_loss    object\n",
       "yellow_eyes    object\n",
       "disease        object\n",
       "dtype: object"
      ]
     },
     "metadata": {},
     "output_type": "display_data"
    },
    {
     "data": {
      "text/html": [
       "<div>\n",
       "<style scoped>\n",
       "    .dataframe tbody tr th:only-of-type {\n",
       "        vertical-align: middle;\n",
       "    }\n",
       "\n",
       "    .dataframe tbody tr th {\n",
       "        vertical-align: top;\n",
       "    }\n",
       "\n",
       "    .dataframe thead th {\n",
       "        text-align: right;\n",
       "    }\n",
       "</style>\n",
       "<table border=\"1\" class=\"dataframe\">\n",
       "  <thead>\n",
       "    <tr style=\"text-align: right;\">\n",
       "      <th></th>\n",
       "      <th>count</th>\n",
       "      <th>unique</th>\n",
       "      <th>top</th>\n",
       "      <th>freq</th>\n",
       "    </tr>\n",
       "  </thead>\n",
       "  <tbody>\n",
       "    <tr>\n",
       "      <th>fever</th>\n",
       "      <td>2000</td>\n",
       "      <td>2</td>\n",
       "      <td>no</td>\n",
       "      <td>1344</td>\n",
       "    </tr>\n",
       "    <tr>\n",
       "      <th>headache</th>\n",
       "      <td>2000</td>\n",
       "      <td>2</td>\n",
       "      <td>no</td>\n",
       "      <td>1174</td>\n",
       "    </tr>\n",
       "    <tr>\n",
       "      <th>nausea</th>\n",
       "      <td>2000</td>\n",
       "      <td>2</td>\n",
       "      <td>no</td>\n",
       "      <td>1243</td>\n",
       "    </tr>\n",
       "    <tr>\n",
       "      <th>vomiting</th>\n",
       "      <td>2000</td>\n",
       "      <td>2</td>\n",
       "      <td>yes</td>\n",
       "      <td>1052</td>\n",
       "    </tr>\n",
       "    <tr>\n",
       "      <th>fatigue</th>\n",
       "      <td>2000</td>\n",
       "      <td>2</td>\n",
       "      <td>no</td>\n",
       "      <td>1269</td>\n",
       "    </tr>\n",
       "    <tr>\n",
       "      <th>joint_pain</th>\n",
       "      <td>2000</td>\n",
       "      <td>2</td>\n",
       "      <td>no</td>\n",
       "      <td>1099</td>\n",
       "    </tr>\n",
       "    <tr>\n",
       "      <th>skin_rash</th>\n",
       "      <td>2000</td>\n",
       "      <td>2</td>\n",
       "      <td>no</td>\n",
       "      <td>1226</td>\n",
       "    </tr>\n",
       "    <tr>\n",
       "      <th>cough</th>\n",
       "      <td>2000</td>\n",
       "      <td>2</td>\n",
       "      <td>yes</td>\n",
       "      <td>1110</td>\n",
       "    </tr>\n",
       "    <tr>\n",
       "      <th>weight_loss</th>\n",
       "      <td>2000</td>\n",
       "      <td>2</td>\n",
       "      <td>no</td>\n",
       "      <td>1088</td>\n",
       "    </tr>\n",
       "    <tr>\n",
       "      <th>yellow_eyes</th>\n",
       "      <td>2000</td>\n",
       "      <td>2</td>\n",
       "      <td>no</td>\n",
       "      <td>1102</td>\n",
       "    </tr>\n",
       "    <tr>\n",
       "      <th>disease</th>\n",
       "      <td>2000</td>\n",
       "      <td>38</td>\n",
       "      <td>Paralysis (brain hemorrhage)</td>\n",
       "      <td>90</td>\n",
       "    </tr>\n",
       "  </tbody>\n",
       "</table>\n",
       "</div>"
      ],
      "text/plain": [
       "            count unique                           top  freq\n",
       "fever        2000      2                            no  1344\n",
       "headache     2000      2                            no  1174\n",
       "nausea       2000      2                            no  1243\n",
       "vomiting     2000      2                           yes  1052\n",
       "fatigue      2000      2                            no  1269\n",
       "joint_pain   2000      2                            no  1099\n",
       "skin_rash    2000      2                            no  1226\n",
       "cough        2000      2                           yes  1110\n",
       "weight_loss  2000      2                            no  1088\n",
       "yellow_eyes  2000      2                            no  1102\n",
       "disease      2000     38  Paralysis (brain hemorrhage)    90"
      ]
     },
     "metadata": {},
     "output_type": "display_data"
    },
    {
     "name": "stdout",
     "output_type": "stream",
     "text": [
      "<class 'pandas.core.frame.DataFrame'>\n",
      "RangeIndex: 2000 entries, 0 to 1999\n",
      "Data columns (total 11 columns):\n",
      " #   Column       Non-Null Count  Dtype \n",
      "---  ------       --------------  ----- \n",
      " 0   fever        2000 non-null   object\n",
      " 1   headache     2000 non-null   object\n",
      " 2   nausea       2000 non-null   object\n",
      " 3   vomiting     2000 non-null   object\n",
      " 4   fatigue      2000 non-null   object\n",
      " 5   joint_pain   2000 non-null   object\n",
      " 6   skin_rash    2000 non-null   object\n",
      " 7   cough        2000 non-null   object\n",
      " 8   weight_loss  2000 non-null   object\n",
      " 9   yellow_eyes  2000 non-null   object\n",
      " 10  disease      2000 non-null   object\n",
      "dtypes: object(11)\n",
      "memory usage: 172.0+ KB\n"
     ]
    },
    {
     "data": {
      "text/plain": [
       "None"
      ]
     },
     "metadata": {},
     "output_type": "display_data"
    }
   ],
   "source": [
    "display(df.head(2))\n",
    "display(df.shape)\n",
    "display(df.dtypes)\n",
    "display(df.describe().T)\n",
    "display(df.info())"
   ]
  },
  {
   "cell_type": "code",
   "execution_count": 5,
   "id": "4f8288bd",
   "metadata": {},
   "outputs": [
    {
     "name": "stdout",
     "output_type": "stream",
     "text": [
      "Categories in 'fever' variable:      ['yes' 'no']\n",
      "Categories in 'headache' variable:   ['no' 'yes']\n",
      "Categories in'nausea' variable:    ['yes' 'no']\n",
      "Categories in 'vomiting' variable:      ['no' 'yes']\n",
      "Categories in 'fatigue' variable:      ['yes' 'no']\n",
      "Categories in 'joint_pain' variable:      ['no' 'yes']\n",
      "Categories in 'skin_rash' variable:   ['no' 'yes']\n",
      "Categories in'cough' variable:    ['yes' 'no']\n",
      "Categories in 'weight_loss' variable:      ['yes' 'no']\n",
      "Categories in 'yellow_eyes' variable:      ['no' 'yes']\n",
      "Categories in 'disease' variable:      ['Paralysis (brain hemorrhage)' 'Hypertension' 'Hepatitis B' 'Impetigo'\n",
      " 'Chronic cholestasis' 'Hepatitis C' 'Typhoid'\n",
      " 'Dimorphic hemorrhoids(piles)'\n",
      " 'Vertigo (Benign paroxysmal Positional Vertigo)' 'Cervical spondylosis'\n",
      " 'Tuberculosis' 'Hyperthyroidism' 'Malaria' 'Gastroenteritis'\n",
      " 'Osteoarthritis' 'Heart attack' 'Dengue' 'Pneumonia'\n",
      " 'Urinary tract infection' 'Hypoglycemia' 'Bronchial Asthma' 'Arthritis'\n",
      " 'Hepatitis D' 'Hypothyroidism' 'Acne' 'GERD' 'Peptic ulcer disease'\n",
      " 'Psoriasis' 'Drug Reaction' 'Diabetes' 'Varicose veins' 'Hepatitis A'\n",
      " 'Hepatitis E' 'Migraine' 'Allergy' 'Jaundice' 'AIDS'\n",
      " 'Alcoholic hepatitis']\n"
     ]
    }
   ],
   "source": [
    "print(\"Categories in 'fever' variable:     \",end=\" \" )\n",
    "print(df['fever'].unique())\n",
    "\n",
    "print(\"Categories in 'headache' variable:  \",end=\" \")\n",
    "print(df['headache'].unique())\n",
    "\n",
    "print(\"Categories in'nausea' variable:   \",end=\" \" )\n",
    "print(df['nausea'].unique())\n",
    "\n",
    "print(\"Categories in 'vomiting' variable:     \",end=\" \" )\n",
    "print(df['vomiting'].unique())\n",
    "\n",
    "print(\"Categories in 'fatigue' variable:     \",end=\" \" )\n",
    "print(df['fatigue'].unique())\n",
    "\n",
    "print(\"Categories in 'joint_pain' variable:     \",end=\" \" )\n",
    "print(df['joint_pain'].unique())\n",
    "\n",
    "print(\"Categories in 'skin_rash' variable:  \",end=\" \")\n",
    "print(df['skin_rash'].unique())\n",
    "\n",
    "print(\"Categories in'cough' variable:   \",end=\" \" )\n",
    "print(df['cough'].unique())\n",
    "\n",
    "print(\"Categories in 'weight_loss' variable:     \",end=\" \" )\n",
    "print(df['weight_loss'].unique())\n",
    "\n",
    "print(\"Categories in 'yellow_eyes' variable:     \",end=\" \" )\n",
    "print(df['yellow_eyes'].unique())\n",
    "\n",
    "print(\"Categories in 'disease' variable:     \",end=\" \" )\n",
    "print(df['disease'].unique())"
   ]
  },
  {
   "cell_type": "code",
   "execution_count": 6,
   "id": "0b8f0769",
   "metadata": {},
   "outputs": [],
   "source": [
    "X = df.drop(columns=['disease'],axis=1)\n",
    "y=df['disease']"
   ]
  },
  {
   "cell_type": "code",
   "execution_count": 7,
   "id": "22830670",
   "metadata": {},
   "outputs": [
    {
     "data": {
      "text/plain": [
       "disease\n",
       "Paralysis (brain hemorrhage)                      90\n",
       "Hepatitis B                                       80\n",
       "Impetigo                                          80\n",
       "Hypertension                                      80\n",
       "Vertigo (Benign paroxysmal Positional Vertigo)    70\n",
       "Hyperthyroidism                                   70\n",
       "Tuberculosis                                      70\n",
       "Cervical spondylosis                              70\n",
       "Dimorphic hemorrhoids(piles)                      70\n",
       "Typhoid                                           70\n",
       "Hepatitis C                                       70\n",
       "Chronic cholestasis                               70\n",
       "Malaria                                           60\n",
       "Gastroenteritis                                   60\n",
       "Osteoarthritis                                    60\n",
       "Heart attack                                      60\n",
       "Arthritis                                         50\n",
       "Bronchial Asthma                                  50\n",
       "Hypoglycemia                                      50\n",
       "Urinary tract infection                           50\n",
       "Dengue                                            50\n",
       "Pneumonia                                         50\n",
       "Psoriasis                                         40\n",
       "Hepatitis E                                       40\n",
       "Hepatitis A                                       40\n",
       "Varicose veins                                    40\n",
       "Diabetes                                          40\n",
       "Drug Reaction                                     40\n",
       "Peptic ulcer disease                              40\n",
       "GERD                                              40\n",
       "Acne                                              40\n",
       "Hypothyroidism                                    40\n",
       "Hepatitis D                                       40\n",
       "Migraine                                          30\n",
       "Allergy                                           30\n",
       "Jaundice                                          30\n",
       "AIDS                                              30\n",
       "Alcoholic hepatitis                               10\n",
       "Name: count, dtype: int64"
      ]
     },
     "execution_count": 7,
     "metadata": {},
     "output_type": "execute_result"
    }
   ],
   "source": [
    "y.value_counts()"
   ]
  },
  {
   "cell_type": "code",
   "execution_count": 8,
   "id": "d95e81aa",
   "metadata": {},
   "outputs": [],
   "source": [
    "from imblearn.over_sampling import RandomOverSampler\n",
    "ros = RandomOverSampler(random_state=42)\n",
    "X,y = ros.fit_resample(X, y)\n",
    "\n",
    "#print(\"Resampled Class Distribution:\\n\", pd.Series(y_resampled).value_counts())"
   ]
  },
  {
   "cell_type": "code",
   "execution_count": 9,
   "id": "6b24d02e",
   "metadata": {},
   "outputs": [
    {
     "data": {
      "text/plain": [
       "disease\n",
       "Paralysis (brain hemorrhage)                      90\n",
       "Drug Reaction                                     90\n",
       "Arthritis                                         90\n",
       "Hepatitis D                                       90\n",
       "Hypothyroidism                                    90\n",
       "Acne                                              90\n",
       "GERD                                              90\n",
       "Peptic ulcer disease                              90\n",
       "Psoriasis                                         90\n",
       "Diabetes                                          90\n",
       "Hypertension                                      90\n",
       "Varicose veins                                    90\n",
       "Hepatitis A                                       90\n",
       "Hepatitis E                                       90\n",
       "Migraine                                          90\n",
       "Allergy                                           90\n",
       "Jaundice                                          90\n",
       "AIDS                                              90\n",
       "Bronchial Asthma                                  90\n",
       "Hypoglycemia                                      90\n",
       "Urinary tract infection                           90\n",
       "Pneumonia                                         90\n",
       "Hepatitis B                                       90\n",
       "Impetigo                                          90\n",
       "Chronic cholestasis                               90\n",
       "Hepatitis C                                       90\n",
       "Typhoid                                           90\n",
       "Dimorphic hemorrhoids(piles)                      90\n",
       "Vertigo (Benign paroxysmal Positional Vertigo)    90\n",
       "Cervical spondylosis                              90\n",
       "Tuberculosis                                      90\n",
       "Hyperthyroidism                                   90\n",
       "Malaria                                           90\n",
       "Gastroenteritis                                   90\n",
       "Osteoarthritis                                    90\n",
       "Heart attack                                      90\n",
       "Dengue                                            90\n",
       "Alcoholic hepatitis                               90\n",
       "Name: count, dtype: int64"
      ]
     },
     "execution_count": 9,
     "metadata": {},
     "output_type": "execute_result"
    }
   ],
   "source": [
    "y.value_counts()"
   ]
  },
  {
   "cell_type": "code",
   "execution_count": 10,
   "id": "f4929a4f",
   "metadata": {},
   "outputs": [],
   "source": [
    "# separate dataset into train and test\n",
    "from sklearn.model_selection import train_test_split\n",
    "Xtr,Xte,ytr,yte = train_test_split(X,y,test_size=0.2,random_state=42)\n"
   ]
  },
  {
   "cell_type": "code",
   "execution_count": 11,
   "id": "52c181af",
   "metadata": {},
   "outputs": [],
   "source": [
    "cat_cols=[feat for feat in X.columns if X[feat].dtypes=='O']\n",
    "from sklearn.preprocessing import OneHotEncoder\n",
    "from sklearn.compose import ColumnTransformer\n",
    "ct = ColumnTransformer(\n",
    "    transformers=[('onehot', OneHotEncoder(handle_unknown='ignore'), cat_cols),\n",
    "                  ],\n",
    "    remainder='passthrough')"
   ]
  },
  {
   "cell_type": "code",
   "execution_count": 12,
   "id": "e2053744",
   "metadata": {},
   "outputs": [],
   "source": [
    "Xtr_transf=ct.fit_transform(Xtr)\n",
    "Xte_transf=ct.transform(Xte)"
   ]
  },
  {
   "cell_type": "code",
   "execution_count": 13,
   "id": "efd6c88e",
   "metadata": {},
   "outputs": [],
   "source": [
    "def evaluate_model(true, predicted):\n",
    "    acc = accuracy_score(true, predicted)\n",
    "    return acc"
   ]
  },
  {
   "cell_type": "code",
   "execution_count": 14,
   "id": "02777b71",
   "metadata": {},
   "outputs": [
    {
     "name": "stdout",
     "output_type": "stream",
     "text": [
      "K-Neighbors classifier\n",
      "Model performance for Training set\n",
      "- Accuracy score for train data: 0.6144\n",
      "----------------------------------\n",
      "Model performance for Test set\n",
      "- Accuracy score for test data: 0.4635\n",
      "===================================\n",
      "\n",
      "\n",
      "Decision Tree\n",
      "Model performance for Training set\n",
      "- Accuracy score for train data: 0.7065\n",
      "----------------------------------\n",
      "Model performance for Test set\n",
      "- Accuracy score for test data: 0.5219\n",
      "===================================\n",
      "\n",
      "\n",
      "Random Forest classifier\n",
      "Model performance for Training set\n",
      "- Accuracy score for train data: 0.7065\n",
      "----------------------------------\n",
      "Model performance for Test set\n",
      "- Accuracy score for test data: 0.5351\n",
      "===================================\n",
      "\n",
      "\n",
      "CatBoosting classifier\n",
      "Model performance for Training set\n",
      "- Accuracy score for train data: 0.7065\n",
      "----------------------------------\n",
      "Model performance for Test set\n",
      "- Accuracy score for test data: 0.5322\n",
      "===================================\n",
      "\n",
      "\n"
     ]
    },
    {
     "name": "stderr",
     "output_type": "stream",
     "text": [
      "c:\\Users\\san\\anaconda3\\Lib\\site-packages\\sklearn\\ensemble\\_weight_boosting.py:527: FutureWarning: The SAMME.R algorithm (the default) is deprecated and will be removed in 1.6. Use the SAMME algorithm to circumvent this warning.\n",
      "  warnings.warn(\n"
     ]
    },
    {
     "name": "stdout",
     "output_type": "stream",
     "text": [
      "AdaBoost classifier\n",
      "Model performance for Training set\n",
      "- Accuracy score for train data: 0.3147\n",
      "----------------------------------\n",
      "Model performance for Test set\n",
      "- Accuracy score for test data: 0.3056\n",
      "===================================\n",
      "\n",
      "\n"
     ]
    }
   ],
   "source": [
    "models = {\n",
    "    \"K-Neighbors classifier\": KNeighborsClassifier(),\n",
    "    \"Decision Tree\": DecisionTreeClassifier(),\n",
    "    \"Random Forest classifier\": RandomForestClassifier(),\n",
    "    \"CatBoosting classifier\": CatBoostClassifier(verbose=False),\n",
    "    \"AdaBoost classifier\": AdaBoostClassifier()\n",
    "}\n",
    "model_list = []\n",
    "tr_acc =[]\n",
    "te_acc=[]\n",
    "l=[]\n",
    "\n",
    "for i in range(len(list(models))):\n",
    "    model = list(models.values())[i]\n",
    "    model.fit(Xtr_transf,ytr) # Train model\n",
    "\n",
    "    # Make predictions\n",
    "    ytrain_pred = model.predict(Xtr_transf)\n",
    "    ytest_pred = model.predict(Xte_transf)\n",
    "    l.append(ytest_pred)\n",
    "    # Evaluate Train and Test dataset\n",
    "    model_train_acc = evaluate_model(ytr, ytrain_pred)\n",
    "\n",
    "    model_test_acc = evaluate_model(yte, ytest_pred)\n",
    "\n",
    "    \n",
    "    print(list(models.keys())[i])\n",
    "    model_list.append(list(models.keys())[i])\n",
    "    \n",
    "    print('Model performance for Training set')\n",
    "    print(\"- Accuracy score for train data: {:.4f}\".format(model_train_acc))\n",
    "  \n",
    "    print('----------------------------------')\n",
    "    \n",
    "    print('Model performance for Test set')\n",
    "    print(\"- Accuracy score for test data: {:.4f}\".format(model_test_acc))\n",
    "\n",
    "    tr_acc.append(model_train_acc)\n",
    "    te_acc.append(model_test_acc)\n",
    "    \n",
    "    print('='*35)\n",
    "    print('\\n')"
   ]
  },
  {
   "cell_type": "code",
   "execution_count": 15,
   "id": "a38088b0",
   "metadata": {},
   "outputs": [
    {
     "data": {
      "text/html": [
       "<div>\n",
       "<style scoped>\n",
       "    .dataframe tbody tr th:only-of-type {\n",
       "        vertical-align: middle;\n",
       "    }\n",
       "\n",
       "    .dataframe tbody tr th {\n",
       "        vertical-align: top;\n",
       "    }\n",
       "\n",
       "    .dataframe thead th {\n",
       "        text-align: right;\n",
       "    }\n",
       "</style>\n",
       "<table border=\"1\" class=\"dataframe\">\n",
       "  <thead>\n",
       "    <tr style=\"text-align: right;\">\n",
       "      <th></th>\n",
       "      <th>Model Name</th>\n",
       "      <th>TR_ACC</th>\n",
       "      <th>TE_ACC</th>\n",
       "    </tr>\n",
       "  </thead>\n",
       "  <tbody>\n",
       "    <tr>\n",
       "      <th>2</th>\n",
       "      <td>Random Forest classifier</td>\n",
       "      <td>0.706506</td>\n",
       "      <td>0.535088</td>\n",
       "    </tr>\n",
       "    <tr>\n",
       "      <th>3</th>\n",
       "      <td>CatBoosting classifier</td>\n",
       "      <td>0.706506</td>\n",
       "      <td>0.532164</td>\n",
       "    </tr>\n",
       "    <tr>\n",
       "      <th>1</th>\n",
       "      <td>Decision Tree</td>\n",
       "      <td>0.706506</td>\n",
       "      <td>0.521930</td>\n",
       "    </tr>\n",
       "    <tr>\n",
       "      <th>0</th>\n",
       "      <td>K-Neighbors classifier</td>\n",
       "      <td>0.614401</td>\n",
       "      <td>0.463450</td>\n",
       "    </tr>\n",
       "    <tr>\n",
       "      <th>4</th>\n",
       "      <td>AdaBoost classifier</td>\n",
       "      <td>0.314693</td>\n",
       "      <td>0.305556</td>\n",
       "    </tr>\n",
       "  </tbody>\n",
       "</table>\n",
       "</div>"
      ],
      "text/plain": [
       "                 Model Name    TR_ACC    TE_ACC\n",
       "2  Random Forest classifier  0.706506  0.535088\n",
       "3    CatBoosting classifier  0.706506  0.532164\n",
       "1             Decision Tree  0.706506  0.521930\n",
       "0    K-Neighbors classifier  0.614401  0.463450\n",
       "4       AdaBoost classifier  0.314693  0.305556"
      ]
     },
     "execution_count": 15,
     "metadata": {},
     "output_type": "execute_result"
    }
   ],
   "source": [
    "pd.DataFrame(list(zip(model_list,tr_acc,te_acc)), columns=['Model Name','TR_ACC','TE_ACC']).sort_values(by=[\"TE_ACC\"],ascending=False)"
   ]
  },
  {
   "cell_type": "code",
   "execution_count": 16,
   "id": "a5260d35",
   "metadata": {},
   "outputs": [],
   "source": [
    "from sklearn.pipeline import Pipeline\n",
    "model = Pipeline([\n",
    "    ('preprocess', ct),\n",
    "    ('classifier',RandomForestClassifier())\n",
    "])"
   ]
  },
  {
   "cell_type": "code",
   "execution_count": 17,
   "id": "0da45432",
   "metadata": {},
   "outputs": [
    {
     "name": "stdout",
     "output_type": "stream",
     "text": [
      "acc score 0.5175438596491229\n",
      "classification report                                                 precision    recall  f1-score   support\n",
      "\n",
      "                                          AIDS       0.57      0.94      0.71        18\n",
      "                                          Acne       0.55      0.85      0.67        13\n",
      "                           Alcoholic hepatitis       0.67      0.83      0.74        12\n",
      "                                       Allergy       0.58      0.41      0.48        17\n",
      "                                     Arthritis       0.47      0.47      0.47        15\n",
      "                              Bronchial Asthma       0.46      0.35      0.40        17\n",
      "                          Cervical spondylosis       0.56      0.36      0.43        14\n",
      "                           Chronic cholestasis       0.52      0.65      0.58        17\n",
      "                                        Dengue       0.39      0.37      0.38        19\n",
      "                                      Diabetes       0.58      0.65      0.61        17\n",
      "                  Dimorphic hemorrhoids(piles)       0.46      0.48      0.47        23\n",
      "                                 Drug Reaction       0.70      0.50      0.58        14\n",
      "                                          GERD       0.67      0.78      0.72        18\n",
      "                               Gastroenteritis       0.55      0.71      0.62        17\n",
      "                                  Heart attack       0.75      0.45      0.56        20\n",
      "                                   Hepatitis A       0.61      0.74      0.67        19\n",
      "                                   Hepatitis B       0.53      0.30      0.38        27\n",
      "                                   Hepatitis C       0.70      0.56      0.62        25\n",
      "                                   Hepatitis D       0.41      0.60      0.49        20\n",
      "                                   Hepatitis E       0.67      0.74      0.70        19\n",
      "                                  Hypertension       0.29      0.12      0.17        16\n",
      "                               Hyperthyroidism       0.38      0.19      0.25        16\n",
      "                                  Hypoglycemia       0.40      0.55      0.46        11\n",
      "                                Hypothyroidism       0.42      0.50      0.46        16\n",
      "                                      Impetigo       0.64      0.27      0.38        26\n",
      "                                      Jaundice       0.61      0.78      0.68        18\n",
      "                                       Malaria       0.57      0.53      0.55        15\n",
      "                                      Migraine       0.56      0.68      0.61        22\n",
      "                                Osteoarthritis       0.42      0.36      0.38        14\n",
      "                  Paralysis (brain hemorrhage)       0.24      0.18      0.21        22\n",
      "                          Peptic ulcer disease       0.46      0.48      0.47        25\n",
      "                                     Pneumonia       0.38      0.55      0.44        11\n",
      "                                     Psoriasis       0.77      0.71      0.74        24\n",
      "                                  Tuberculosis       0.27      0.29      0.28        21\n",
      "                                       Typhoid       0.40      0.38      0.39        21\n",
      "                       Urinary tract infection       0.56      0.62      0.59        16\n",
      "                                Varicose veins       0.42      0.57      0.48        14\n",
      "Vertigo (Benign paroxysmal Positional Vertigo)       0.42      0.53      0.47        15\n",
      "\n",
      "                                      accuracy                           0.52       684\n",
      "                                     macro avg       0.52      0.53      0.51       684\n",
      "                                  weighted avg       0.52      0.52      0.51       684\n",
      "\n"
     ]
    }
   ],
   "source": [
    "model.fit(Xtr,ytr)\n",
    "ypred=model.predict(Xte)\n",
    "\n",
    "acc_score=accuracy_score(yte,ypred)\n",
    "print(f\"acc score {acc_score}\")\n",
    "print(f\"classification report {classification_report(yte,ypred)}\")"
   ]
  },
  {
   "cell_type": "code",
   "execution_count": 18,
   "id": "e2968cfc",
   "metadata": {},
   "outputs": [
    {
     "data": {
      "text/html": [
       "<div>\n",
       "<style scoped>\n",
       "    .dataframe tbody tr th:only-of-type {\n",
       "        vertical-align: middle;\n",
       "    }\n",
       "\n",
       "    .dataframe tbody tr th {\n",
       "        vertical-align: top;\n",
       "    }\n",
       "\n",
       "    .dataframe thead th {\n",
       "        text-align: right;\n",
       "    }\n",
       "</style>\n",
       "<table border=\"1\" class=\"dataframe\">\n",
       "  <thead>\n",
       "    <tr style=\"text-align: right;\">\n",
       "      <th></th>\n",
       "      <th>fever</th>\n",
       "      <th>headache</th>\n",
       "      <th>nausea</th>\n",
       "      <th>vomiting</th>\n",
       "      <th>fatigue</th>\n",
       "      <th>joint_pain</th>\n",
       "      <th>skin_rash</th>\n",
       "      <th>cough</th>\n",
       "      <th>weight_loss</th>\n",
       "      <th>yellow_eyes</th>\n",
       "    </tr>\n",
       "  </thead>\n",
       "  <tbody>\n",
       "    <tr>\n",
       "      <th>0</th>\n",
       "      <td>yes</td>\n",
       "      <td>no</td>\n",
       "      <td>yes</td>\n",
       "      <td>no</td>\n",
       "      <td>no</td>\n",
       "      <td>no</td>\n",
       "      <td>no</td>\n",
       "      <td>yes</td>\n",
       "      <td>no</td>\n",
       "      <td>yes</td>\n",
       "    </tr>\n",
       "  </tbody>\n",
       "</table>\n",
       "</div>"
      ],
      "text/plain": [
       "  fever headache nausea vomiting fatigue joint_pain skin_rash cough  \\\n",
       "0   yes       no    yes       no      no         no        no   yes   \n",
       "\n",
       "  weight_loss yellow_eyes  \n",
       "0          no         yes  "
      ]
     },
     "execution_count": 18,
     "metadata": {},
     "output_type": "execute_result"
    }
   ],
   "source": [
    "test_data1= pd.DataFrame({\n",
    "'fever' : ['yes'],\n",
    "'headache' : ['no'], \n",
    "'nausea' : [\"yes\"],\n",
    "'vomiting' : ['no'],\n",
    "'fatigue': ['no'],\n",
    "'joint_pain' : ['no'],\n",
    "'skin_rash' : ['no'],\n",
    "'cough' : ['yes'],\n",
    "'weight_loss':['no'],\n",
    "'yellow_eyes':['yes']\n",
    "\n",
    "})\n",
    "test_data1"
   ]
  },
  {
   "cell_type": "code",
   "execution_count": 19,
   "id": "4e859e3b",
   "metadata": {},
   "outputs": [
    {
     "name": "stdout",
     "output_type": "stream",
     "text": [
      " the disease prediction for the above given test data is: ['Hepatitis D']\n"
     ]
    }
   ],
   "source": [
    "ypred1=model.predict(test_data1)\n",
    "print(f\" the disease prediction for the above given test data is: {ypred1}\")"
   ]
  },
  {
   "cell_type": "code",
   "execution_count": 20,
   "id": "803104ea",
   "metadata": {},
   "outputs": [
    {
     "name": "stdout",
     "output_type": "stream",
     "text": [
      "✅ Model saved!\n"
     ]
    }
   ],
   "source": [
    "import joblib\n",
    "\n",
    "# 💾 Save the trained pipeline (preprocessing + model)\n",
    "joblib.dump(model, 'dis_model1.joblib')\n",
    "print(\"✅ Model saved!\")"
   ]
  },
  {
   "cell_type": "code",
   "execution_count": 21,
   "id": "d53b28a0",
   "metadata": {},
   "outputs": [],
   "source": [
    "# 📦 Load the saved model\n",
    "loaded_model = joblib.load('dis_model1.joblib')"
   ]
  },
  {
   "cell_type": "code",
   "execution_count": 22,
   "id": "418ea073",
   "metadata": {},
   "outputs": [
    {
     "data": {
      "text/html": [
       "<div>\n",
       "<style scoped>\n",
       "    .dataframe tbody tr th:only-of-type {\n",
       "        vertical-align: middle;\n",
       "    }\n",
       "\n",
       "    .dataframe tbody tr th {\n",
       "        vertical-align: top;\n",
       "    }\n",
       "\n",
       "    .dataframe thead th {\n",
       "        text-align: right;\n",
       "    }\n",
       "</style>\n",
       "<table border=\"1\" class=\"dataframe\">\n",
       "  <thead>\n",
       "    <tr style=\"text-align: right;\">\n",
       "      <th></th>\n",
       "      <th>fever</th>\n",
       "      <th>headache</th>\n",
       "      <th>nausea</th>\n",
       "      <th>vomiting</th>\n",
       "      <th>fatigue</th>\n",
       "      <th>joint_pain</th>\n",
       "      <th>skin_rash</th>\n",
       "      <th>cough</th>\n",
       "      <th>weight_loss</th>\n",
       "      <th>yellow_eyes</th>\n",
       "    </tr>\n",
       "  </thead>\n",
       "  <tbody>\n",
       "    <tr>\n",
       "      <th>0</th>\n",
       "      <td>yes</td>\n",
       "      <td>no</td>\n",
       "      <td>yes</td>\n",
       "      <td>no</td>\n",
       "      <td>no</td>\n",
       "      <td>no</td>\n",
       "      <td>no</td>\n",
       "      <td>no</td>\n",
       "      <td>yes</td>\n",
       "      <td>yes</td>\n",
       "    </tr>\n",
       "  </tbody>\n",
       "</table>\n",
       "</div>"
      ],
      "text/plain": [
       "  fever headache nausea vomiting fatigue joint_pain skin_rash cough  \\\n",
       "0   yes       no    yes       no      no         no        no    no   \n",
       "\n",
       "  weight_loss yellow_eyes  \n",
       "0         yes         yes  "
      ]
     },
     "execution_count": 22,
     "metadata": {},
     "output_type": "execute_result"
    }
   ],
   "source": [
    "test_data2= pd.DataFrame({\n",
    "'fever' : ['yes'],\n",
    "'headache' : ['no'], \n",
    "'nausea' : [\"yes\"],\n",
    "'vomiting' : ['no'],\n",
    "'fatigue': ['no'],\n",
    "'joint_pain' : ['no'],\n",
    "'skin_rash' : ['no'],\n",
    "'cough' : ['no'],\n",
    "'weight_loss':['yes'],\n",
    "'yellow_eyes':['yes']\n",
    "\n",
    "})\n",
    "test_data2"
   ]
  },
  {
   "cell_type": "code",
   "execution_count": 23,
   "id": "bbfb29e3",
   "metadata": {},
   "outputs": [
    {
     "name": "stdout",
     "output_type": "stream",
     "text": [
      "prediction from loaded model ['Hepatitis A']\n"
     ]
    }
   ],
   "source": [
    "prediction=loaded_model.predict(test_data2)\n",
    "\n",
    "print(f\"prediction from loaded model {prediction}\")"
   ]
  },
  {
   "cell_type": "code",
   "execution_count": 24,
   "id": "7160e12c",
   "metadata": {},
   "outputs": [
    {
     "name": "stdout",
     "output_type": "stream",
     "text": [
      "✅ Model saved as .pkl!\n"
     ]
    }
   ],
   "source": [
    "import pickle\n",
    "\n",
    "# 🎯 Save model as .pkl\n",
    "with open('dis_modelpkl.pkl', 'wb') as f:\n",
    "    pickle.dump(model, f)\n",
    "\n",
    "print(\"✅ Model saved as .pkl!\")"
   ]
  },
  {
   "cell_type": "code",
   "execution_count": 25,
   "id": "aa1d3b31",
   "metadata": {},
   "outputs": [],
   "source": [
    "# 📦 Load the saved model\n",
    "with open('dis_modelpkl.pkl', 'rb') as file:\n",
    "    loaded_model_pickl = pickle.load(file)"
   ]
  },
  {
   "cell_type": "code",
   "execution_count": 26,
   "id": "490e3efc",
   "metadata": {},
   "outputs": [
    {
     "data": {
      "text/html": [
       "<div>\n",
       "<style scoped>\n",
       "    .dataframe tbody tr th:only-of-type {\n",
       "        vertical-align: middle;\n",
       "    }\n",
       "\n",
       "    .dataframe tbody tr th {\n",
       "        vertical-align: top;\n",
       "    }\n",
       "\n",
       "    .dataframe thead th {\n",
       "        text-align: right;\n",
       "    }\n",
       "</style>\n",
       "<table border=\"1\" class=\"dataframe\">\n",
       "  <thead>\n",
       "    <tr style=\"text-align: right;\">\n",
       "      <th></th>\n",
       "      <th>fever</th>\n",
       "      <th>headache</th>\n",
       "      <th>nausea</th>\n",
       "      <th>vomiting</th>\n",
       "      <th>fatigue</th>\n",
       "      <th>joint_pain</th>\n",
       "      <th>skin_rash</th>\n",
       "      <th>cough</th>\n",
       "      <th>weight_loss</th>\n",
       "      <th>yellow_eyes</th>\n",
       "    </tr>\n",
       "  </thead>\n",
       "  <tbody>\n",
       "    <tr>\n",
       "      <th>0</th>\n",
       "      <td>no</td>\n",
       "      <td>no</td>\n",
       "      <td>yes</td>\n",
       "      <td>no</td>\n",
       "      <td>no</td>\n",
       "      <td>no</td>\n",
       "      <td>yes</td>\n",
       "      <td>no</td>\n",
       "      <td>yes</td>\n",
       "      <td>yes</td>\n",
       "    </tr>\n",
       "  </tbody>\n",
       "</table>\n",
       "</div>"
      ],
      "text/plain": [
       "  fever headache nausea vomiting fatigue joint_pain skin_rash cough  \\\n",
       "0    no       no    yes       no      no         no       yes    no   \n",
       "\n",
       "  weight_loss yellow_eyes  \n",
       "0         yes         yes  "
      ]
     },
     "execution_count": 26,
     "metadata": {},
     "output_type": "execute_result"
    }
   ],
   "source": [
    "test_data3= pd.DataFrame({\n",
    "'fever' : ['no'],\n",
    "'headache' : ['no'], \n",
    "'nausea' : [\"yes\"],\n",
    "'vomiting' : ['no'],\n",
    "'fatigue': ['no'],\n",
    "'joint_pain' : ['no'],\n",
    "'skin_rash' : ['yes'],\n",
    "'cough' : ['no'],\n",
    "'weight_loss':['yes'],\n",
    "'yellow_eyes':['yes']\n",
    "\n",
    "})\n",
    "test_data3"
   ]
  },
  {
   "cell_type": "code",
   "execution_count": 27,
   "id": "31db39d6",
   "metadata": {},
   "outputs": [
    {
     "name": "stdout",
     "output_type": "stream",
     "text": [
      "prediction from loaded model ['Dimorphic hemorrhoids(piles)']\n"
     ]
    }
   ],
   "source": [
    "prediction=loaded_model_pickl.predict(test_data3)\n",
    "\n",
    "print(f\"prediction from loaded model {prediction}\")"
   ]
  }
 ],
 "metadata": {
  "kernelspec": {
   "display_name": "base",
   "language": "python",
   "name": "python3"
  },
  "language_info": {
   "codemirror_mode": {
    "name": "ipython",
    "version": 3
   },
   "file_extension": ".py",
   "mimetype": "text/x-python",
   "name": "python",
   "nbconvert_exporter": "python",
   "pygments_lexer": "ipython3",
   "version": "3.12.7"
  }
 },
 "nbformat": 4,
 "nbformat_minor": 5
}
